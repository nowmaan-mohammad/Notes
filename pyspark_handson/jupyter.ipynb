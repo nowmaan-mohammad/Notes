{
  "cells": [
    {
      "cell_type": "markdown",
      "source": [
        "# New Section"
      ],
      "metadata": {
        "id": "tbdbW5xlkriO"
      },
      "id": "tbdbW5xlkriO"
    },
    {
      "cell_type": "code",
      "source": [
        "!pip install pyspark\n"
      ],
      "metadata": {
        "colab": {
          "base_uri": "https://localhost:8080/"
        },
        "id": "0l6YnJtekyNf",
        "outputId": "f5ca9ae1-cd09-43f7-9e4d-3c954af57e7b"
      },
      "id": "0l6YnJtekyNf",
      "execution_count": 1,
      "outputs": [
        {
          "output_type": "stream",
          "name": "stdout",
          "text": [
            "Requirement already satisfied: pyspark in /usr/local/lib/python3.11/dist-packages (3.5.1)\n",
            "Requirement already satisfied: py4j==0.10.9.7 in /usr/local/lib/python3.11/dist-packages (from pyspark) (0.10.9.7)\n"
          ]
        }
      ]
    },
    {
      "cell_type": "code",
      "source": [
        "!spark-submit --version"
      ],
      "metadata": {
        "colab": {
          "base_uri": "https://localhost:8080/"
        },
        "id": "BVJseMZok17z",
        "outputId": "86078770-73c9-4e19-8c4c-7e423adb1485"
      },
      "id": "BVJseMZok17z",
      "execution_count": 3,
      "outputs": [
        {
          "output_type": "stream",
          "name": "stdout",
          "text": [
            "Welcome to\n",
            "      ____              __\n",
            "     / __/__  ___ _____/ /__\n",
            "    _\\ \\/ _ \\/ _ `/ __/  '_/\n",
            "   /___/ .__/\\_,_/_/ /_/\\_\\   version 3.5.1\n",
            "      /_/\n",
            "                        \n",
            "Using Scala version 2.12.18, OpenJDK 64-Bit Server VM, 11.0.28\n",
            "Branch HEAD\n",
            "Compiled by user heartsavior on 2024-02-15T11:24:58Z\n",
            "Revision fd86f85e181fc2dc0f50a096855acf83a6cc5d9c\n",
            "Url https://github.com/apache/spark\n",
            "Type --help for more information.\n"
          ]
        }
      ]
    },
    {
      "cell_type": "code",
      "source": [
        "from pyspark.sql import SparkSession\n",
        "spark=SparkSession.builder.appName('practice').config('spark.sql.shuffle.partition','4').enableHiveSupport().getOrCreate()\n",
        "print(spark.conf.get('spark.app.name'))\n",
        "print(spark.conf.get('spark.app.id'))\n",
        "print(spark.conf.get('spark.sql.shuffle.partition'))\n",
        "# print(spark.sparkContext.getConf().getAll())"
      ],
      "metadata": {
        "colab": {
          "base_uri": "https://localhost:8080/"
        },
        "id": "Wz6qXkH2k5-x",
        "outputId": "d27f65d8-f550-4885-db55-65914fb5c01c"
      },
      "id": "Wz6qXkH2k5-x",
      "execution_count": 20,
      "outputs": [
        {
          "output_type": "stream",
          "name": "stdout",
          "text": [
            "practice\n",
            "local-1755544272361\n",
            "4\n"
          ]
        }
      ]
    },
    {
      "cell_type": "code",
      "source": [
        "from pyspark.sql import functions as F\n",
        "from pyspark.sql.window import Window"
      ],
      "metadata": {
        "id": "MgjQz-5xlRjv"
      },
      "id": "MgjQz-5xlRjv",
      "execution_count": 24,
      "outputs": []
    },
    {
      "cell_type": "code",
      "source": [
        "data = [(\"Alice\", 25), (\"Bob\", 30), (\"Charlie\", 29)]\n",
        "df = spark.createDataFrame(data, [\"name\", \"age\"])\n",
        "# Tasks:\n",
        "\n",
        "# Add 5 to age → future_age\n",
        "\n",
        "# Filter age > 27\n",
        "\n",
        "# Rename name → full_name\n",
        "\n",
        "# Group by age → count\n"
      ],
      "metadata": {
        "id": "2Faa6LtWoOLq"
      },
      "id": "2Faa6LtWoOLq",
      "execution_count": 41,
      "outputs": []
    },
    {
      "cell_type": "code",
      "source": [
        "#1.1\n",
        "from pyspark.sql.functions import col\n",
        "df1=df.withColumn(\"age\",col('age')+5)\n",
        "df1.show()"
      ],
      "metadata": {
        "colab": {
          "base_uri": "https://localhost:8080/"
        },
        "id": "BrRXIk8Woka9",
        "outputId": "ef94e2ee-7868-4d8f-f073-23af519d1d45"
      },
      "id": "BrRXIk8Woka9",
      "execution_count": 42,
      "outputs": [
        {
          "output_type": "stream",
          "name": "stdout",
          "text": [
            "+-------+---+\n",
            "|   name|age|\n",
            "+-------+---+\n",
            "|  Alice| 30|\n",
            "|    Bob| 35|\n",
            "|Charlie| 34|\n",
            "+-------+---+\n",
            "\n"
          ]
        }
      ]
    },
    {
      "cell_type": "code",
      "source": [
        "#1.2\n",
        "df2=df.filter(col('age')>27)\n",
        "df2.show()"
      ],
      "metadata": {
        "colab": {
          "base_uri": "https://localhost:8080/"
        },
        "id": "k_yZNRXiorPh",
        "outputId": "ed1dee40-eacf-4992-8a14-f82a1f66641a"
      },
      "id": "k_yZNRXiorPh",
      "execution_count": 43,
      "outputs": [
        {
          "output_type": "stream",
          "name": "stdout",
          "text": [
            "+-------+---+\n",
            "|   name|age|\n",
            "+-------+---+\n",
            "|    Bob| 30|\n",
            "|Charlie| 29|\n",
            "+-------+---+\n",
            "\n"
          ]
        }
      ]
    },
    {
      "cell_type": "code",
      "source": [
        "#1.3\n",
        "df3=df.withColumnRenamed('name','full_name')\n",
        "df3.show()"
      ],
      "metadata": {
        "colab": {
          "base_uri": "https://localhost:8080/"
        },
        "id": "aw3F8JOOpCCd",
        "outputId": "eec7eacd-47a6-4237-b0f5-bbd6cbd0546d"
      },
      "id": "aw3F8JOOpCCd",
      "execution_count": 44,
      "outputs": [
        {
          "output_type": "stream",
          "name": "stdout",
          "text": [
            "+---------+---+\n",
            "|full_name|age|\n",
            "+---------+---+\n",
            "|    Alice| 25|\n",
            "|      Bob| 30|\n",
            "|  Charlie| 29|\n",
            "+---------+---+\n",
            "\n"
          ]
        }
      ]
    },
    {
      "cell_type": "code",
      "source": [
        "#1.4\n",
        "df4=df.groupby('age').count()\n",
        "df4.show()"
      ],
      "metadata": {
        "colab": {
          "base_uri": "https://localhost:8080/"
        },
        "id": "gQ_E2BESpM8S",
        "outputId": "ad9d9a88-f5b5-408a-9260-b40b04e7f238"
      },
      "id": "gQ_E2BESpM8S",
      "execution_count": 45,
      "outputs": [
        {
          "output_type": "stream",
          "name": "stdout",
          "text": [
            "+---+-----+\n",
            "|age|count|\n",
            "+---+-----+\n",
            "| 25|    1|\n",
            "| 29|    1|\n",
            "| 30|    1|\n",
            "+---+-----+\n",
            "\n"
          ]
        }
      ]
    },
    {
      "cell_type": "code",
      "source": [
        "df5=df.groupby(col('age')).agg(F.count('age')).alias('count_of_age')\n",
        "df5.show()"
      ],
      "metadata": {
        "colab": {
          "base_uri": "https://localhost:8080/"
        },
        "id": "2KQtOz1HpSME",
        "outputId": "61c072e0-b4e2-43c0-ffee-4ccd731fb52f"
      },
      "id": "2KQtOz1HpSME",
      "execution_count": 47,
      "outputs": [
        {
          "output_type": "stream",
          "name": "stdout",
          "text": [
            "+---+----------+\n",
            "|age|count(age)|\n",
            "+---+----------+\n",
            "| 25|         1|\n",
            "| 29|         1|\n",
            "| 30|         1|\n",
            "+---+----------+\n",
            "\n"
          ]
        }
      ]
    },
    {
      "cell_type": "code",
      "source": [
        "employees = [(1, \"Alice\", 1), (2, \"Bob\", 2), (3, \"Charlie\", 2), (4, \"David\", 3)]\n",
        "departments = [(1, \"HR\"), (2, \"IT\"), (3, \"Finance\")]\n",
        "df_emp = spark.createDataFrame(employees, [\"id\", \"name\", \"dept_id\"])\n",
        "df_dept = spark.createDataFrame(departments, [\"dept_id\", \"dept_name\"])\n",
        "df_emp.show(),df_dept.show()"
      ],
      "metadata": {
        "colab": {
          "base_uri": "https://localhost:8080/"
        },
        "id": "qTEl5EUfpyOW",
        "outputId": "1d51deac-2fad-4de8-e5c8-95dd8f2207f0"
      },
      "id": "qTEl5EUfpyOW",
      "execution_count": 58,
      "outputs": [
        {
          "output_type": "stream",
          "name": "stdout",
          "text": [
            "+---+-------+-------+\n",
            "| id|   name|dept_id|\n",
            "+---+-------+-------+\n",
            "|  1|  Alice|      1|\n",
            "|  2|    Bob|      2|\n",
            "|  3|Charlie|      2|\n",
            "|  4|  David|      3|\n",
            "+---+-------+-------+\n",
            "\n",
            "+-------+---------+\n",
            "|dept_id|dept_name|\n",
            "+-------+---------+\n",
            "|      1|       HR|\n",
            "|      2|       IT|\n",
            "|      3|  Finance|\n",
            "+-------+---------+\n",
            "\n"
          ]
        },
        {
          "output_type": "execute_result",
          "data": {
            "text/plain": [
              "(None, None)"
            ]
          },
          "metadata": {},
          "execution_count": 58
        }
      ]
    },
    {
      "cell_type": "code",
      "source": [
        "# Tasks:\n",
        "\n",
        "# Do an inner join on dept_id.\n",
        "\n",
        "# Do a left join, so employees without a department are retained.\n",
        "\n",
        "# Register both DataFrames as SQL tables and run this query:\n",
        "\n",
        "# SELECT dept_name, AVG(id) as avg_id\n",
        "# FROM employee e JOIN department d ON e.dept_id = d.dept_id\n",
        "# GROUP BY dept_name\n"
      ],
      "metadata": {
        "id": "h-oDDE6oqPOH"
      },
      "id": "h-oDDE6oqPOH",
      "execution_count": 53,
      "outputs": []
    },
    {
      "cell_type": "code",
      "source": [
        "#2.1\n",
        "joined_df = df_emp.join(df_dept,on='dept_id',how='inner')\n",
        "joined_df.show()\n"
      ],
      "metadata": {
        "colab": {
          "base_uri": "https://localhost:8080/"
        },
        "id": "kUtTIsySrCX-",
        "outputId": "78639d95-85dd-4134-f4f7-580c36f9e8c2"
      },
      "id": "kUtTIsySrCX-",
      "execution_count": 55,
      "outputs": [
        {
          "output_type": "stream",
          "name": "stdout",
          "text": [
            "+-------+---+-------+---------+\n",
            "|dept_id| id|   name|dept_name|\n",
            "+-------+---+-------+---------+\n",
            "|      1|  1|  Alice|       HR|\n",
            "|      2|  2|    Bob|       IT|\n",
            "|      2|  3|Charlie|       IT|\n",
            "|      3|  4|  David|  Finance|\n",
            "+-------+---+-------+---------+\n",
            "\n"
          ]
        }
      ]
    },
    {
      "cell_type": "code",
      "source": [
        "#2.2\n",
        "all_emp_df = df_emp.join(df_dept,on='dept_id',how='left')\n",
        "all_emp_df.show()"
      ],
      "metadata": {
        "colab": {
          "base_uri": "https://localhost:8080/"
        },
        "id": "7pKW47nvrs4w",
        "outputId": "1ddccb09-bb14-42da-fac0-e0014288d8d2"
      },
      "id": "7pKW47nvrs4w",
      "execution_count": 60,
      "outputs": [
        {
          "output_type": "stream",
          "name": "stdout",
          "text": [
            "+-------+---+-------+---------+\n",
            "|dept_id| id|   name|dept_name|\n",
            "+-------+---+-------+---------+\n",
            "|      1|  1|  Alice|       HR|\n",
            "|      2|  2|    Bob|       IT|\n",
            "|      3|  4|  David|  Finance|\n",
            "|      2|  3|Charlie|       IT|\n",
            "+-------+---+-------+---------+\n",
            "\n"
          ]
        }
      ]
    },
    {
      "cell_type": "code",
      "source": [
        "#2.3\n",
        "df_emp.createOrReplaceTempView('employee')\n",
        "df_dept.createOrReplaceTempView('department')\n",
        "df=spark.sql(\"SELECT dept_name, AVG(id) as avg_id \\\n",
        "FROM employee e JOIN department d ON e.dept_id = d.dept_id \\\n",
        "GROUP BY dept_name \")\n",
        "df.show()"
      ],
      "metadata": {
        "colab": {
          "base_uri": "https://localhost:8080/"
        },
        "id": "iy70repSsCcE",
        "outputId": "8df5675d-bd68-4667-ebfb-cdde8b506308"
      },
      "id": "iy70repSsCcE",
      "execution_count": 63,
      "outputs": [
        {
          "output_type": "stream",
          "name": "stdout",
          "text": [
            "+---------+------+\n",
            "|dept_name|avg_id|\n",
            "+---------+------+\n",
            "|       HR|   1.0|\n",
            "|  Finance|   4.0|\n",
            "|       IT|   2.5|\n",
            "+---------+------+\n",
            "\n"
          ]
        }
      ]
    },
    {
      "cell_type": "code",
      "source": [
        "salaries = [\n",
        "    (1, \"Alice\", 5000, 1),\n",
        "    (2, \"Bob\", 6000, 1),\n",
        "    (3, \"Charlie\", 7000, 2),\n",
        "    (4, \"David\", 8000, 2),\n",
        "    (5, \"Eve\", 9000, 3)\n",
        "]\n",
        "df_sal = spark.createDataFrame(salaries, [\"id\", \"name\", \"salary\", \"dept_id\"])\n",
        "df_sal.show()"
      ],
      "metadata": {
        "colab": {
          "base_uri": "https://localhost:8080/"
        },
        "id": "0SkNRy-psx8E",
        "outputId": "cbf98da0-ee54-4ef8-cb23-abb81b19c07f"
      },
      "id": "0SkNRy-psx8E",
      "execution_count": 65,
      "outputs": [
        {
          "output_type": "stream",
          "name": "stdout",
          "text": [
            "+---+-------+------+-------+\n",
            "| id|   name|salary|dept_id|\n",
            "+---+-------+------+-------+\n",
            "|  1|  Alice|  5000|      1|\n",
            "|  2|    Bob|  6000|      1|\n",
            "|  3|Charlie|  7000|      2|\n",
            "|  4|  David|  8000|      2|\n",
            "|  5|    Eve|  9000|      3|\n",
            "+---+-------+------+-------+\n",
            "\n"
          ]
        }
      ]
    },
    {
      "cell_type": "code",
      "source": [
        "# Tasks:\n",
        "\n",
        "# Use a Window function to rank employees by salary within each dept.\n",
        "\n",
        "# Extract the top 2 salaries per department."
      ],
      "metadata": {
        "id": "Zec_k_CKtl17"
      },
      "id": "Zec_k_CKtl17",
      "execution_count": 66,
      "outputs": []
    },
    {
      "cell_type": "code",
      "source": [
        "#3.1\n",
        "from pyspark.sql.window import Window as w\n",
        "from pyspark.sql import functions as F\n",
        "windowSpec=w.partitionBy('dept_id').orderBy(F.desc('salary'))\n",
        "df_rank = df_sal.withColumn(\"rank\",F.dense_rank().over(windowSpec))\n",
        "df_rank.show()"
      ],
      "metadata": {
        "colab": {
          "base_uri": "https://localhost:8080/"
        },
        "id": "ThvBPr18t1mb",
        "outputId": "a54498fa-4d6e-459f-aca6-3186114fa293"
      },
      "id": "ThvBPr18t1mb",
      "execution_count": 85,
      "outputs": [
        {
          "output_type": "stream",
          "name": "stdout",
          "text": [
            "+---+-------+------+-------+----+\n",
            "| id|   name|salary|dept_id|rank|\n",
            "+---+-------+------+-------+----+\n",
            "|  2|    Bob|  6000|      1|   1|\n",
            "|  1|  Alice|  5000|      1|   2|\n",
            "|  4|  David|  8000|      2|   1|\n",
            "|  3|Charlie|  7000|      2|   2|\n",
            "|  5|    Eve|  9000|      3|   1|\n",
            "+---+-------+------+-------+----+\n",
            "\n"
          ]
        }
      ]
    },
    {
      "cell_type": "code",
      "source": [
        "#3.1\n",
        "df_rank=df_sal.withColumn('rank',F.rank().over(w.partitionBy('dept_id').orderBy(F.desc('salary'))))\n",
        "df_rank.show()"
      ],
      "metadata": {
        "colab": {
          "base_uri": "https://localhost:8080/"
        },
        "id": "hkv02Yr1u-5W",
        "outputId": "3177da76-c5c5-476a-db1c-39416fb170e2"
      },
      "id": "hkv02Yr1u-5W",
      "execution_count": 83,
      "outputs": [
        {
          "output_type": "stream",
          "name": "stdout",
          "text": [
            "+---+-------+------+-------+----+\n",
            "| id|   name|salary|dept_id|rank|\n",
            "+---+-------+------+-------+----+\n",
            "|  2|    Bob|  6000|      1|   1|\n",
            "|  1|  Alice|  5000|      1|   2|\n",
            "|  4|  David|  8000|      2|   1|\n",
            "|  3|Charlie|  7000|      2|   2|\n",
            "|  5|    Eve|  9000|      3|   1|\n",
            "+---+-------+------+-------+----+\n",
            "\n"
          ]
        }
      ]
    },
    {
      "cell_type": "code",
      "source": [
        "#3.2\n",
        "df_rank_top_2=df_rank.select('dept_id','salary').filter(col('rank')<=2).distinct()\n",
        "df_rank_top_2.show()"
      ],
      "metadata": {
        "colab": {
          "base_uri": "https://localhost:8080/"
        },
        "id": "lEaJf3dzvmip",
        "outputId": "7df077d2-09f6-46c9-9d84-fea7a3a5fc1e"
      },
      "id": "lEaJf3dzvmip",
      "execution_count": 90,
      "outputs": [
        {
          "output_type": "stream",
          "name": "stdout",
          "text": [
            "+-------+------+\n",
            "|dept_id|salary|\n",
            "+-------+------+\n",
            "|      1|  6000|\n",
            "|      1|  5000|\n",
            "|      2|  8000|\n",
            "|      2|  7000|\n",
            "|      3|  9000|\n",
            "+-------+------+\n",
            "\n"
          ]
        }
      ]
    },
    {
      "cell_type": "code",
      "source": [],
      "metadata": {
        "id": "EU5GkvwowzLi"
      },
      "id": "EU5GkvwowzLi",
      "execution_count": null,
      "outputs": []
    }
  ],
  "metadata": {
    "kernelspec": {
      "display_name": "Python 3",
      "name": "python3"
    },
    "language_info": {
      "name": "python"
    },
    "required_libs": [],
    "colab": {
      "provenance": []
    }
  },
  "nbformat": 4,
  "nbformat_minor": 5
}